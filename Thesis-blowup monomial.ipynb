{
 "cells": [
  {
   "cell_type": "code",
   "execution_count": 81,
   "metadata": {},
   "outputs": [],
   "source": [
    "import sympy\n",
    "from sympy import CC, QQ\n",
    "import numpy as np\n",
    "from sortedcollections import ValueSortedDict\n",
    "from fractions import Fraction"
   ]
  },
  {
   "cell_type": "code",
   "execution_count": 82,
   "metadata": {},
   "outputs": [
    {
     "name": "stdout",
     "output_type": "stream",
     "text": [
      "<1.0*x**2 + 1.0*x*y*z>\n"
     ]
    },
    {
     "data": {
      "text/plain": [
       "[Fraction(2, 1), Fraction(4, 1), Fraction(4, 1)]"
      ]
     },
     "execution_count": 82,
     "metadata": {},
     "output_type": "execute_result"
    }
   ],
   "source": [
    "# Ideal class example\n",
    "f = sympy.sympify('z**3 + x**3 * y**3 + y**2 * z**2 + x**4')\n",
    "f = sympy.sympify(\"x**2 + x*y*z\")\n",
    "g = sympy.Poly(f, domain = 'CC')\n",
    "ring = sorted(list(f.free_symbols), key=lambda x: str(x))\n",
    "n = len(ring) # number of vars, like x0, ..., xn\n",
    "ring = CC.old_poly_ring(*ring)\n",
    "ideal = ring.ideal(f)\n",
    "print(ideal)\n",
    "\n",
    "def ideal_to_monomial_terms(ideal:sympy.polys.agca.ideals.Ideal) -> np.ndarray:\n",
    "    \"\"\"Returns a flat list of powers corresponding to points in the newton polygon\"\"\"\n",
    "    monomial_terms = np.array([term[0] for gen in ideal.gens for term in gen.terms()])\n",
    "    return monomial_terms\n",
    "\n",
    "def inv_dict(n_vars) -> ValueSortedDict:\n",
    "    \"\"\"Makes a dictionary such that dict[i][i] = np.inf else 0\"\"\"\n",
    "    out = ValueSortedDict(sum)\n",
    "    for i in range(n_vars):\n",
    "        endpoint = [0]*n_vars\n",
    "        endpoint[i] = np.inf\n",
    "        out[i] = tuple(endpoint)\n",
    "    return out\n",
    "\n",
    "def project_used(point, outpoints:ValueSortedDict):\n",
    "    \"\"\"Given the current best restrictions project a point to a new possible\n",
    "      best restriction. Pushes the points along restrictions\"\"\"\n",
    "    for index, w_var in outpoints.items():\n",
    "        if len(np.nonzero(point)[0]) == 1: #only one variable left\n",
    "            return point\n",
    "        if point[index] == 0 or w_var[index] >= np.inf:\n",
    "            continue #nothing to project\n",
    "        if abs(w_var[index] - point[index])<0.1e-10 or w_var[index] < point[index]:\n",
    "            scale = np.inf #projection cannot hit axis\n",
    "        else:\n",
    "            scale = w_var[index] / (w_var[index] - point[index])\n",
    "        point[index] = 0 \n",
    "        with np.errstate(invalid='ignore'):\n",
    "            point = point * scale\n",
    "        point[np.isnan(point)] = 0 #np.inf*0 = 0\n",
    "    return point\n",
    "\n",
    "\n",
    "def calculate_inv_plane(points, verbose = False):\n",
    "    n = points.shape[1]\n",
    "    outpoints = inv_dict(n)\n",
    "    for point in points:\n",
    "        if verbose > 2:print(\"Point\", point, \"outpoints\", outpoints)\n",
    "        point = project_used(point, outpoints)  #project if possible\n",
    "        index = np.nonzero(point)[0]\n",
    "        degree = np.sum(point)\n",
    "        for i in index: #handles both multiple or single variables\n",
    "            if degree >= outpoints[i][i]:\n",
    "                continue #only want more restrictive points\n",
    "            newpoint = [0]*n\n",
    "            newpoint[i] = degree\n",
    "            outpoints[i] = tuple(newpoint)\n",
    "    out = [outpoints[i][i] for i in range(n)]\n",
    "    return out\n",
    "\n",
    "def deg_sort(points):\n",
    "    index = np.lexsort(\n",
    "        (np.sum(points!=0, axis=1),\n",
    "         np.sum(points, axis=1)))\n",
    "    points = points[index]\n",
    "    return points\n",
    "\n",
    "def inv_finder(ideal:sympy.polys.agca.ideals.Ideal, verbose = False):\n",
    "    vars = ideal.ring.symbols\n",
    "    n = len(vars)\n",
    "    points = ideal_to_monomial_terms(ideal) # returns (flat) list like [(a,b,c),...]\n",
    "    points = deg_sort(points)\n",
    "    if verbose >= 2:print(points)\n",
    "    plane = calculate_inv_plane(points, verbose)\n",
    "    if verbose >= 2:print(plane)\n",
    "    inv = [Fraction(i).limit_denominator(1000) \n",
    "            if i < np.inf else np.inf for i in plane] \n",
    "    return inv\n",
    "\n",
    "inv_finder(ideal, verbose=False)"
   ]
  },
  {
   "cell_type": "code",
   "execution_count": 83,
   "metadata": {},
   "outputs": [],
   "source": [
    "def make_ideal(*inputs, gen_out = False):\n",
    "    vars = set()\n",
    "    generators = []\n",
    "    for s in inputs:\n",
    "        f = sympy.sympify(s)\n",
    "        vars = vars.union(f.free_symbols)\n",
    "        generators.append(f)\n",
    "    vars = sorted(list(vars), key=lambda x: str(x))\n",
    "    ring = QQ.old_poly_ring(*vars)\n",
    "    ideal = ring.ideal(*generators)\n",
    "    if gen_out:\n",
    "        return ideal, generators\n",
    "    return ideal"
   ]
  },
  {
   "cell_type": "code",
   "execution_count": 84,
   "metadata": {},
   "outputs": [
    {
     "data": {
      "text/plain": [
       "<x,y>"
      ]
     },
     "execution_count": 84,
     "metadata": {},
     "output_type": "execute_result"
    }
   ],
   "source": [
    "make_ideal(\"x\", \"y\")"
   ]
  },
  {
   "cell_type": "code",
   "execution_count": 85,
   "metadata": {},
   "outputs": [],
   "source": [
    "def test_admisibility(ideal:sympy.polys.agca.ideals.Ideal, inv):\n",
    "    gens = list(ideal.gens)\n",
    "    for poly in gens:\n",
    "        for term in poly.terms():\n",
    "            if sum(term[0][i]/inv[i] for i in range(len(inv))) < 1-0.1e-10:\n",
    "                print(f\"AssertionError {sympy.pprint(poly), term} did not work with {inv}.\")\n",
    "                return False\n",
    "    return True"
   ]
  },
  {
   "cell_type": "code",
   "execution_count": 86,
   "metadata": {},
   "outputs": [],
   "source": [
    "def make_weights(inv):\n",
    "    denoms_lcm = sympy.lcm([frac.denominator for frac in inv if frac != np.inf])\n",
    "    temp_inv = [(frac*denoms_lcm) if frac != np.inf else np.inf for frac in inv]\n",
    "    nume_lcm = sympy.lcm([frac.numerator for frac in temp_inv if frac != np.inf])\n",
    "    out = [1/(frac/nume_lcm) if frac != np.inf else 0 for frac in temp_inv]\n",
    "    return tuple(out)"
   ]
  },
  {
   "cell_type": "code",
   "execution_count": 87,
   "metadata": {},
   "outputs": [
    {
     "data": {
      "text/plain": [
       "(4, 2, 1)"
      ]
     },
     "execution_count": 87,
     "metadata": {},
     "output_type": "execute_result"
    }
   ],
   "source": [
    "make_weights((2,4,8))"
   ]
  },
  {
   "cell_type": "code",
   "execution_count": 88,
   "metadata": {},
   "outputs": [
    {
     "data": {
      "text/plain": [
       "[Fraction(2, 1), Fraction(6, 1), Fraction(6, 1)]"
      ]
     },
     "execution_count": 88,
     "metadata": {},
     "output_type": "execute_result"
    }
   ],
   "source": [
    "inv_finder(make_ideal(*\"x*y*z**2,x**2\".split(\",\")))"
   ]
  },
  {
   "cell_type": "code",
   "execution_count": 89,
   "metadata": {},
   "outputs": [],
   "source": [
    "def blow_up(ideal, generators, weights, chart_index = 0, verbose = False, keep_vars = False, new_var = \"u\", fast = False):\n",
    "    vars = ideal.ring.symbols\n",
    "    n = len(vars)\n",
    "    # Charts by default x0 chart with u corresponding to x0\n",
    "    if keep_vars:\n",
    "        #new_vars = vars[:chart_index] + (sympy.sympify(new_var),) + vars[chart_index+1:]\n",
    "        new_vars = vars[:]\n",
    "    else:\n",
    "        new_vars = sympy.symbols(' '.join([f\"y{i}\" if i != chart_index else new_var for i in range(n)]))\n",
    "    u = new_vars[chart_index]\n",
    "    u_var = {vars[chart_index]:u**weights[chart_index]}\n",
    "    loc_vars = {vars[i]:u**weight * new_vars[i] if i != chart_index \n",
    "                else u for i, weight in enumerate(weights)}\n",
    "    if verbose >= 1:\n",
    "        print(\"====\", \"chart \", vars[chart_index], \"====\")\n",
    "        print(loc_vars)\n",
    "\n",
    "    \n",
    "    new_variety = [gen.subs(u_var).subs(loc_vars) for gen in generators]\n",
    "    all_powers = [term.as_coeff_exponent(u)[1] if term.has(u) \n",
    "                  else 0 \n",
    "                  for eq in new_variety\n",
    "                  for term in eq.as_ordered_terms()] # Finds the number of u's one can pull out\n",
    "\n",
    "    # Calculate the minimum of the powers\n",
    "    max_power = min(all_powers)\n",
    "\n",
    "    # Divide each term by u raised to the max_power\n",
    "    simplified_expressions = [poly / (u**max_power) \n",
    "                           for poly in new_variety]\n",
    "    if verbose >= 1:print(simplified_expressions)\n",
    "    if fast:return simplified_expressions\n",
    "    # Simplify the divided expression\n",
    "    simplified_expressions = [sympy.simplify(divided_expression) \n",
    "                              for divided_expression in simplified_expressions]\n",
    "    results = [(u**max_power) * simplified_expression \n",
    "               for simplified_expression in simplified_expressions]\n",
    "    # Multiply the simplified expression by u raised to the max_power\n",
    "    if verbose >= 1:\n",
    "        print(results)\n",
    "    return results, simplified_expressions\n",
    "    "
   ]
  },
  {
   "cell_type": "code",
   "execution_count": 90,
   "metadata": {},
   "outputs": [],
   "source": [
    "def multiblowup(ideal:str, ring = None, charts = [], verbose = False, secure = True, path = None, stop_depth = 0):\n",
    "    \"\"\"\n",
    "    Input: monomial ideal, like \"x**3, x*y**3,..., x2**2\"\n",
    "    output: tree as list, like [[x**1, x**3], [y**1, x**1]]\n",
    "    Constructs a tree such that each leaf at the end is the path that led to it,\n",
    "    by finding the invariant for each layer, and then for each chart repeat recursively.\n",
    "    The amount of args is bad practice, but it most are for extra functionality\n",
    "    That did not seem to warrent an extra function.\n",
    "    Also, since we terminate iff 1\\in I, it often terminates one stop \"to late\".\n",
    "    Yet to be implemented is a function to calculate smoothness of I\"\"\"\n",
    "    if ring == None:\n",
    "        ideal, generators = make_ideal(*ideal.split(\",\"), gen_out=True)\n",
    "        ring = ideal.ring\n",
    "    else:\n",
    "        generators = ideal\n",
    "        ideal = ring.ideal(*ideal)\n",
    "    if ideal.contains(1): # should check if smooth also. Also will work for non-monomials if fixed\n",
    "        if verbose > 0.5:print(\"with\", ring.symbols, \"though \", charts, \"0 no longer singular\")\n",
    "        return charts\n",
    "    if generators[0] == 1:\n",
    "        return charts + [\"success\"]\n",
    "    inv = inv_finder(ideal, verbose = verbose)\n",
    "    if all(i == 1 for i in inv):\n",
    "        if verbose > 0.5:print(\"with\", ring.symbols, \"though \", charts, \"0 no longer singular\")\n",
    "        return charts\n",
    "    if verbose > 0.5:print(\"invariant =\", inv, f\" at chart {charts}\"*(len(charts)>1))\n",
    "    if secure: \n",
    "        if not test_admisibility(ideal, inv):\n",
    "            print(\"with\", ring.symbols, \"though \", charts, \"ERROR\")\n",
    "            if secure>1:\n",
    "                assert test_admisibility(ideal, inv)\n",
    "    weights = make_weights(inv)\n",
    "    if verbose > 0.5:print(\"Weights^{-1}\", weights, ring.symbols)\n",
    "    tree = []\n",
    "    for index, weight in enumerate(weights):\n",
    "        if path and len(charts) < len(path):\n",
    "            path_index = path[len(charts)]\n",
    "            if index != path_index:\n",
    "                continue\n",
    "            if weight == 0:\n",
    "                return\n",
    "        if stop_depth and len(charts) >= stop_depth:\n",
    "            return charts + [\"end\"]\n",
    "        if weight == 0:\n",
    "            continue\n",
    "        out = blow_up(ideal, generators, weights, chart_index=index, verbose = verbose, keep_vars=True, fast=True)\n",
    "        chart_var = f\"{ideal.ring.symbols[index]}**{weight}\"\n",
    "        leaf = multiblowup(out, ring, charts = charts + [chart_var], verbose = verbose, secure = secure, path=path, stop_depth=stop_depth)\n",
    "        tree.append(leaf)\n",
    "    return tree"
   ]
  },
  {
   "cell_type": "code",
   "execution_count": 91,
   "metadata": {},
   "outputs": [
    {
     "data": {
      "text/plain": [
       "[[[['b22**1', 'b12**1', 'b33**1'], ['b22**1', 'b12**1', 't**1']],\n",
       "  [['b22**1', 'b22**1', 'b33**1'], ['b22**1', 'b22**1', 't**1']],\n",
       "  [['b22**1', 'b23**1', 'b33**1'], ['b22**1', 'b23**1', 't**1']],\n",
       "  ['b22**1', 'b33**2'],\n",
       "  [['b22**1', 't**1', 'b12**1'],\n",
       "   ['b22**1', 't**1', 'b22**1'],\n",
       "   ['b22**1', 't**1', 'b23**1'],\n",
       "   ['b22**1', 't**1', 'b33**1']]],\n",
       " [[['b23**1', 'b22**1', 'b33**1'], ['b23**1', 'b22**1', 't**1']],\n",
       "  [['b23**1', 'b33**1', 'b22**1'], ['b23**1', 'b33**1', 't**1']],\n",
       "  ['b23**1', 't**2']],\n",
       " [['b33**1', 'b22**1'], ['b33**1', 't**1']],\n",
       " [[['t**1', 'b12**1', 'b22**1'],\n",
       "   ['t**1', 'b12**1', 'b23**1'],\n",
       "   ['t**1', 'b12**1', 'b33**1'],\n",
       "   ['t**1', 'b12**1', 't**1']],\n",
       "  [['t**1', 'b22**1', 'b12**1'],\n",
       "   ['t**1', 'b22**1', 'b23**1'],\n",
       "   ['t**1', 'b22**1', 'b33**1'],\n",
       "   ['t**1', 'b22**1', 't**1']],\n",
       "  ['t**1', 'b23**2'],\n",
       "  ['t**1', 'b33**2'],\n",
       "  ['t**1', 't**2']]]"
      ]
     },
     "execution_count": 91,
     "metadata": {},
     "output_type": "execute_result"
    }
   ],
   "source": [
    "multiblowup(\"b22*b33, b33*t, b22**2 * t, b23*t, b12*b22*t, b22* t**2, t**3\")"
   ]
  },
  {
   "cell_type": "code",
   "execution_count": 103,
   "metadata": {},
   "outputs": [
    {
     "name": "stdout",
     "output_type": "stream",
     "text": [
      "invariant = [Fraction(3, 1), Fraction(4, 1), Fraction(4, 1)] \n",
      "Weights^{-1} (4, 3, 3) (x, y, z)\n",
      "==== chart  x ====\n",
      "{x: x, y: x**3*y, z: x**3*z}\n",
      "[y**3*z, x**3*z, 1]\n",
      "with (x, y, z) though  ['x**4'] 0 no longer singular\n",
      "==== chart  y ====\n",
      "{x: x*y**4, y: y, z: y**3*z}\n",
      "[z, x**3*y**3*z, x**3]\n",
      "invariant = [Fraction(3, 1), inf, Fraction(1, 1)] \n",
      "Weights^{-1} (1, 0, 3) (x, y, z)\n",
      "==== chart  x ====\n",
      "{x: x, y: y, z: x**3*z}\n",
      "[z, x**3*y**3*z, 1]\n",
      "with (x, y, z) though  ['y**3', 'x**1'] 0 no longer singular\n",
      "==== chart  z ====\n",
      "{x: x*z, y: y, z: z}\n",
      "[1, x**3*y**3*z**3, x**3]\n",
      "with (x, y, z) though  ['y**3', 'z**3'] 0 no longer singular\n",
      "==== chart  z ====\n",
      "{x: x*z**4, y: y*z**3, z: z}\n",
      "[y**3, x**3*z**3, x**3]\n",
      "invariant = [Fraction(3, 1), Fraction(3, 1), inf] \n",
      "Weights^{-1} (1, 1, 0) (x, y, z)\n",
      "==== chart  x ====\n",
      "{x: x, y: x*y, z: z}\n",
      "[y**3, z**3, 1]\n",
      "with (x, y, z) though  ['z**3', 'x**1'] 0 no longer singular\n",
      "==== chart  y ====\n",
      "{x: x*y, y: y, z: z}\n",
      "[1, x**3*z**3, x**3]\n",
      "with (x, y, z) though  ['z**3', 'y**1'] 0 no longer singular\n"
     ]
    },
    {
     "data": {
      "text/plain": [
       "[['x**4'],\n",
       " [['y**3', 'x**1'], ['y**3', 'z**3']],\n",
       " [['z**3', 'x**1'], ['z**3', 'y**1']]]"
      ]
     },
     "execution_count": 103,
     "metadata": {},
     "output_type": "execute_result"
    }
   ],
   "source": [
    "multiblowup(\"z*y**3, z*x**3, x**3\", verbose=1)"
   ]
  },
  {
   "cell_type": "code",
   "execution_count": 93,
   "metadata": {},
   "outputs": [
    {
     "name": "stdout",
     "output_type": "stream",
     "text": [
      "invariant = [Fraction(3, 1), Fraction(4, 1), Fraction(4, 1)]\n",
      "Weights^{-1} (4, 3, 3)\n",
      "==== chart  y ====\n",
      "{x: u**4*y0, y: u, z: u**3*y2}\n",
      "[y2, u**3*y0**3*y2, y0**3]\n",
      "[u**12*y2, u**15*y0**3*y2, u**12*y0**3]\n",
      "==== chart  x ====\n",
      "{x: u, y: u**3*y1, z: u**3*y2}\n",
      "[y1**3*y2, u**3*y2, 1]\n",
      "[u**12*y1**3*y2, u**15*y2, u**12]\n"
     ]
    },
    {
     "data": {
      "text/plain": [
       "True"
      ]
     },
     "execution_count": 93,
     "metadata": {},
     "output_type": "execute_result"
    }
   ],
   "source": [
    "### EXAMPLE ### \n",
    "ideal, generators = make_ideal(\"z*y**3\",\"z*x**3\",\"x**3\", gen_out=True)\n",
    "inv = inv_finder(ideal)\n",
    "print(\"invariant =\", inv)\n",
    "test_admisibility(ideal, inv)\n",
    "weights = make_weights(inv)\n",
    "print(\"Weights^{-1}\", weights)\n",
    "blow_up(ideal, generators, weights, chart_index=1, verbose = True)\n",
    "generators, res = blow_up(ideal, generators, weights, chart_index=0, verbose = True)\n",
    "res[-1] == 1"
   ]
  },
  {
   "cell_type": "code",
   "execution_count": 94,
   "metadata": {},
   "outputs": [
    {
     "name": "stdout",
     "output_type": "stream",
     "text": [
      "invariant = [Fraction(5, 1), Fraction(15, 2)]\n",
      "Weights^{-1} (3, 2)\n",
      "==== chart  y ====\n",
      "{x: u**3*y0, y: u}\n",
      "[(u**16 + u**15*y0**5 + u**15*y0**3)/u**15]\n",
      "[u**15*(u + y0**5 + y0**3)]\n",
      "==== chart  x ====\n",
      "{x: u, y: u**2*y1}\n",
      "[(u**16*y1**8 + u**15*y1**3 + u**15)/u**15]\n",
      "[u**15*(u*y1**8 + y1**3 + 1)]\n"
     ]
    },
    {
     "data": {
      "text/plain": [
       "<x**5 + x**3*y**3 + y**8>"
      ]
     },
     "execution_count": 94,
     "metadata": {},
     "output_type": "execute_result"
    }
   ],
   "source": [
    "### EXAMPLE ### \n",
    "ideal, generators = make_ideal(\"x**5 + x**3 * y**3 + y**8\", gen_out=True)\n",
    "inv = inv_finder(ideal)\n",
    "print(\"invariant =\", inv)\n",
    "test_admisibility(ideal, inv)\n",
    "weights = make_weights(inv)\n",
    "print(\"Weights^{-1}\", weights)\n",
    "blow_up(ideal, generators, weights, chart_index=1, verbose = True)\n",
    "blow_up(ideal, generators, weights, chart_index=0, verbose = True)\n",
    "ideal"
   ]
  },
  {
   "cell_type": "code",
   "execution_count": 97,
   "metadata": {},
   "outputs": [
    {
     "name": "stdout",
     "output_type": "stream",
     "text": [
      "invariant = [Fraction(2, 1), Fraction(2, 1), Fraction(2, 1), Fraction(2, 1)]\n",
      "Weights^{-1} (1, 1, 1, 1)\n",
      "==== chart  x2 ====\n",
      "{x1: u*y0, x2: u, x3: u*y2, x4: u*y3}\n",
      "[y2, y0*y2, y0*y3, 1, y0, y0**2]\n",
      "[u**2*y2, u**2*y0*y2, u**2*y0*y3, u**2, u**2*y0, u**2*y0**2]\n",
      "==== chart  x1 ====\n",
      "{x1: u, x2: u*y1, x3: u*y2, x4: u*y3}\n",
      "[y1*y2, y2, y3, y1**2, y1, 1]\n",
      "[u**2*y1*y2, u**2*y2, u**2*y3, u**2*y1**2, u**2*y1, u**2]\n"
     ]
    },
    {
     "data": {
      "text/plain": [
       "<x2*x3,x1*x3,x1*x4,x2**2,x1*x2,x1**2>"
      ]
     },
     "execution_count": 97,
     "metadata": {},
     "output_type": "execute_result"
    }
   ],
   "source": [
    "### EXAMPLE ### \n",
    "ideal, generators = make_ideal(\"x2 * x3\", \"x1 * x3\", \"x1 * x4\", \"x2**2\", \"x1 * x2\", \"x1**2\", gen_out=True)\n",
    "inv = inv_finder(ideal)\n",
    "print(\"invariant =\", inv)\n",
    "test_admisibility(ideal, inv)\n",
    "weights = make_weights(inv)\n",
    "print(\"Weights^{-1}\", weights)\n",
    "blow_up(ideal, generators, weights, chart_index=1, verbose = True)\n",
    "blow_up(ideal, generators, weights, chart_index=0, verbose = True)\n",
    "ideal"
   ]
  },
  {
   "cell_type": "code",
   "execution_count": 99,
   "metadata": {},
   "outputs": [],
   "source": [
    "import numpy as np\n",
    "w0 = np.zeros(4)\n",
    "w1 = np.array([1,0,0,0])\n",
    "w2 = np.array([*sympy.symbols(\"b12,b22\"), 0, 0])\n",
    "w3 = np.array([*sympy.symbols(\"b13,b23,b33\"), 0])\n",
    "w4 = np.array([*sympy.symbols(\"b14,b24,b34,b44\")])\n",
    "tt = np.array([sympy.symbols(\"t\")])\n",
    "T = np.hstack((w1, np.outer(w0, w0).flatten() , np.outer(w0, np.outer(w0,w0)).flatten()))\n",
    "U = np.hstack((w2, np.outer(tt*w1, w1).flatten() , np.outer(w0, np.outer(w0,w0)).flatten()))\n",
    "V = np.hstack((w3, np.outer(tt*w1, w2).flatten() , np.outer(tt*tt*w1, np.outer(w1,w1)).flatten()))\n",
    "W = np.hstack((w4, np.outer(tt*w1, w3).flatten() + np.outer(tt*w2, w2).flatten(), np.outer(tt*tt*w1, np.outer(w1,w2)).flatten()))\n",
    "M = np.vstack((T,U,V,W))\n",
    "MM = np.hstack((M,tt*tt*tt*np.array([0,0,0,1]).reshape(4,1)))\n",
    "ring = [x for x in np.hstack((w0,w1,w2,w3,w4,tt)) if type(x)==sympy.Symbol]"
   ]
  },
  {
   "cell_type": "code",
   "execution_count": 100,
   "metadata": {},
   "outputs": [],
   "source": [
    "from itertools import combinations\n",
    "def minors2d(minor_size:int, matrix:np.ndarray, reduce = True, nonzero = True, asideal = True):\n",
    "    if reduce: #reduce complexity by removing 0 cols\n",
    "        matrix = matrix[:, ~np.all(matrix == 0, axis = 0)]\n",
    "    nrows, ncols = matrix.shape\n",
    "    assert nrows >= minor_size and ncols >= minor_size\n",
    "    out = []\n",
    "    row_choices = combinations(range(nrows), minor_size)\n",
    "    col_choices = combinations(range(ncols), minor_size)\n",
    "    for minor_row in row_choices:\n",
    "        for minor_col in col_choices:\n",
    "            minor = sympy.det(sympy.Matrix(matrix[minor_row,:][:,minor_col]))\n",
    "            if minor != 0:\n",
    "                out.append(minor)\n",
    "    return out\n",
    "def make_monomial(ideal:list):\n",
    "    out = \",\".join(str(s) for gen in ideal for s in sympy.Add.make_args(sympy.expand(gen)))\n",
    "    return out"
   ]
  },
  {
   "cell_type": "code",
   "execution_count": 101,
   "metadata": {},
   "outputs": [
    {
     "data": {
      "text/plain": [
       "1239"
      ]
     },
     "execution_count": 101,
     "metadata": {},
     "output_type": "execute_result"
    }
   ],
   "source": [
    "len(make_monomial(minors2d(4,MM)))"
   ]
  },
  {
   "cell_type": "code",
   "execution_count": null,
   "metadata": {},
   "outputs": [],
   "source": [
    "multiblowup(make_monomial(minors2d(4,MM)), verbose=1, path=[4,6,7,8], stop_depth=4)"
   ]
  }
 ],
 "metadata": {
  "kernelspec": {
   "display_name": "base",
   "language": "python",
   "name": "python3"
  },
  "language_info": {
   "codemirror_mode": {
    "name": "ipython",
    "version": 3
   },
   "file_extension": ".py",
   "mimetype": "text/x-python",
   "name": "python",
   "nbconvert_exporter": "python",
   "pygments_lexer": "ipython3",
   "version": "3.9.13"
  },
  "orig_nbformat": 4
 },
 "nbformat": 4,
 "nbformat_minor": 2
}
